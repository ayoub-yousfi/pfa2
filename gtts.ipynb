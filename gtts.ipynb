{
 "cells": [
  {
   "cell_type": "code",
   "execution_count": 21,
   "metadata": {},
   "outputs": [
    {
     "data": {
      "text/plain": [
       "0"
      ]
     },
     "execution_count": 21,
     "metadata": {},
     "output_type": "execute_result"
    }
   ],
   "source": [
    "# Import the Gtts module for text\n",
    "# to speech conversion\n",
    "from gtts import gTTS\n",
    "\n",
    "# import Os module to start the audio file\n",
    "import os\n",
    "\n",
    "myText=\"RIP to one of my favourite female voices. Amy, you are a legend. Going to watch AMY again for the 3rd time on this flight I'm about to go on.\"\n",
    "\n",
    "# Language we want to use\n",
    "language = 'en'\n",
    "\n",
    "output = gTTS(text=myText, lang=language, slow=False)\n",
    "\n",
    "output.save(\"output.mp3\")\n",
    "\n",
    "\n",
    "# Play the converted file\n",
    "os.system(\"start output.mp3\")"
   ]
  },
  {
   "cell_type": "code",
   "execution_count": 25,
   "metadata": {},
   "outputs": [
    {
     "name": "stdout",
     "output_type": "stream",
     "text": [
      "how you be wanting my knees right about you\n"
     ]
    }
   ],
   "source": [
    "import os\n",
    "import playsound\n",
    "import speech_recognition as sr\n",
    "from gtts import gTTS\n",
    "\n",
    "\n",
    "def speak(text):\n",
    "    tts = gTTS(text=text, lang=\"en\")\n",
    "    filename = \"voice.mp3\"\n",
    "    tts.save(filename)\n",
    "    playsound.playsound(filename)\n",
    "\n",
    "\n",
    "def get_audio():\n",
    "    r = sr.Recognizer()\n",
    "    with sr.Microphone() as source:\n",
    "        audio = r.listen(source)\n",
    "        said = \"\"\n",
    "\n",
    "        try:\n",
    "            said = r.recognize_google(audio)\n",
    "            print(said)\n",
    "        except Exception as e:\n",
    "            print(\"sorry please repeat \" + str(e))\n",
    "\n",
    "    return said\n",
    "\n",
    "text = get_audio()\n",
    "\n",
    "if \"hello\" in text:\n",
    "    speak(\"hello, how are you?\")\n",
    "elif \"what is your name\" in text:\n",
    "    speak(\"My name is Tim\")\n",
    "if \"good night\" in text:\n",
    "    speak(\"good night ayoub\")"
   ]
  },
  {
   "cell_type": "code",
   "execution_count": null,
   "metadata": {},
   "outputs": [],
   "source": []
  }
 ],
 "metadata": {
  "kernelspec": {
   "display_name": "Python 3",
   "language": "python",
   "name": "python3"
  },
  "language_info": {
   "codemirror_mode": {
    "name": "ipython",
    "version": 3
   },
   "file_extension": ".py",
   "mimetype": "text/x-python",
   "name": "python",
   "nbconvert_exporter": "python",
   "pygments_lexer": "ipython3",
   "version": "3.7.3"
  }
 },
 "nbformat": 4,
 "nbformat_minor": 2
}
