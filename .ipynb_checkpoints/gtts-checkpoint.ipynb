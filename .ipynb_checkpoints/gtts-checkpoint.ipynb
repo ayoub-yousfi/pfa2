{
 "cells": [
  {
   "cell_type": "code",
   "execution_count": 7,
   "metadata": {},
   "outputs": [
    {
     "data": {
      "text/plain": [
       "0"
      ]
     },
     "execution_count": 7,
     "metadata": {},
     "output_type": "execute_result"
    }
   ],
   "source": [
    "# Import the Gtts module for text\n",
    "# to speech conversion\n",
    "from gtts import gTTS\n",
    "\n",
    "# import Os module to start the audio file\n",
    "import os\n",
    "\n",
    "myText=\"RIP to one of my favourite female voices. Amy, you are a legend. Going to watch AMY again for the 3rd time on this flight I'm about to go on.\"\n",
    "\n",
    "# Language we want to use\n",
    "language = 'an'\n",
    "\n",
    "output = gTTS(text=myText, lang=language, slow=False)\n",
    "\n",
    "output.save(\"output.mp3\")\n",
    "\n",
    "\n",
    "# Play the converted file\n",
    "os.system(\"start output.mp3\")"
   ]
  },
  {
   "cell_type": "code",
   "execution_count": null,
   "metadata": {},
   "outputs": [],
   "source": [
    "رحتُ أهاتفها في صباحات الألم لأنقذها من سياط الذكرى. .\n",
    "كمن يعطي الحُبّ رغيف خبز بدل أن يدعوه إلى العشاء. كنت أدري أنّ كلماتي ما كانت تشبعها تمامًا، لكن تمنحها قوت يومها من الصبر، وتزوّدها بفيتامين الصمود.\n",
    "يومًا بعد يوم، بدَت كأنّها تتعافى من الماضي.. أو لعلّها كانت تحاول إقناعي بذلك. لكن لا شيء كان قد تغيّر حقًّا في حياتها. قلّما كانت تقبل تلبية دعوات أو حضور مناسبات. كانت تعيش حدادها بجماليّة وعزلة، لكن بطمأنينة أكبر.\n",
    "كنت أصيح بها يائسة «من أين يأتي الحبّ إن لم تفتحي له الباب؟!» وكانت تردّ «بل تركت له الباب مفتوحًا».\n",
    "لاحقًا أدركت أنّنا ما كنّا نحكي عن الأبواب نفسها. كنت أحكي عن باب الحياة.. وكانت تقصد باب القفص!\n",
    "نسيان كم "
   ]
  }
 ],
 "metadata": {
  "kernelspec": {
   "display_name": "Python 3",
   "language": "python",
   "name": "python3"
  },
  "language_info": {
   "codemirror_mode": {
    "name": "ipython",
    "version": 3
   },
   "file_extension": ".py",
   "mimetype": "text/x-python",
   "name": "python",
   "nbconvert_exporter": "python",
   "pygments_lexer": "ipython3",
   "version": "3.7.3"
  }
 },
 "nbformat": 4,
 "nbformat_minor": 2
}
